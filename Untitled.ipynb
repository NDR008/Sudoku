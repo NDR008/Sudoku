{
 "cells": [
  {
   "cell_type": "code",
   "execution_count": 6,
   "metadata": {},
   "outputs": [
    {
     "name": "stdout",
     "output_type": "stream",
     "text": [
      "(0, 4) [2, 3, 4, 7, 9]\n",
      "(1, 4) [2, 7, 8, 9]\n",
      "(2, 4) [2, 3, 4, 7, 8, 9]\n",
      "(3, 4) [2, 3, 4, 7, 8, 9]\n",
      "(4, 4) [2, 3, 4, 7, 8, 9]\n",
      "(5, 4) [2, 4, 7, 8, 9]\n",
      "(6, 4) [2, 4, 7, 8, 9]\n",
      "(7, 4) [1, 2, 3, 5, 6, 7, 8, 9]\n",
      "(8, 4) [1, 2, 3, 4, 5, 6, 7, 8, 9]\n"
     ]
    }
   ],
   "source": [
    "import numpy as np\n",
    "sudokus = np.load(f\"data/extreme_puzzle.npy\")\n",
    "sudoku = sudokus[10]\n",
    "\n",
    "def get_zeros(sudoku):\n",
    "    zeros_index = [(y, x) for y in range(9) for x in range(9) if sudoku[y][x] == 0]\n",
    "    return zeros_index\n",
    "\n",
    "def get_options(sudoku):\n",
    "    zeros = get_zeros(sudoku)\n",
    "    options = {}\n",
    "    for (y, x) in zeros:\n",
    "        options[(y, x)] = [opt for opt in range(1, 10) if is_move_valid(sudoku, y, x, opt)]\n",
    "    return options\n",
    "\n",
    "def is_move_valid(sudoku, y, x, possible):\n",
    "    for index in range(9):\n",
    "        if (sudoku[y][index] == possible) or (sudoku[index][x] == possible):\n",
    "            return False\n",
    "    sub_cell_y = (y // 3) * 3\n",
    "    sub_cell_x = (x // 3) * 3\n",
    "    for y in range(sub_cell_y, sub_cell_y + 3):\n",
    "        for x in range(sub_cell_x, sub_cell_x + 3):\n",
    "            if sudoku[y][x] == possible:\n",
    "                return False\n",
    "    return True\n",
    "\n",
    "options = get_options(sudoku)\n",
    "for y in range(0,9):\n",
    "    k = (y,4)\n",
    "    print(k, options.get(k))"
   ]
  },
  {
   "cell_type": "code",
   "execution_count": null,
   "metadata": {},
   "outputs": [],
   "source": [
    "options"
   ]
  },
  {
   "cell_type": "code",
   "execution_count": 7,
   "metadata": {},
   "outputs": [],
   "source": [
    "row = []\n",
    "for y in range(0,9):\n",
    "    k = (y,4)\n",
    "    row.append(options.get(k))"
   ]
  },
  {
   "cell_type": "code",
   "execution_count": 8,
   "metadata": {},
   "outputs": [
    {
     "data": {
      "text/plain": [
       "[[2, 3, 4, 7, 9],\n",
       " [2, 7, 8, 9],\n",
       " [2, 3, 4, 7, 8, 9],\n",
       " [2, 3, 4, 7, 8, 9],\n",
       " [2, 3, 4, 7, 8, 9],\n",
       " [2, 4, 7, 8, 9],\n",
       " [2, 4, 7, 8, 9],\n",
       " [1, 2, 3, 5, 6, 7, 8, 9],\n",
       " [1, 2, 3, 4, 5, 6, 7, 8, 9]]"
      ]
     },
     "execution_count": 8,
     "metadata": {},
     "output_type": "execute_result"
    }
   ],
   "source": [
    "row"
   ]
  },
  {
   "cell_type": "code",
   "execution_count": 9,
   "metadata": {},
   "outputs": [],
   "source": [
    "sub_sets = [{1, 2}, {1, 3}, {1, 4}, {1, 5}, {1, 6}, {1, 7}, {1, 8}, {1, 9},\n",
    " {2, 3}, {2, 4}, {2, 5}, {2, 6}, {2, 7}, {2, 8}, {2, 9}, {3, 4}, {3, 5}, {3, 6},{3, 7}, {3, 8}, {3, 9}, \n",
    " {4, 5}, {4, 6}, {4, 7}, {4, 8}, {4, 9}, {5, 6}, {5, 7}, {5, 8},{5, 9},{6, 7}, {6, 8}, {6, 9}, {7, 8}, {7, 9}, {8, 9}]"
   ]
  },
  {
   "cell_type": "code",
   "execution_count": null,
   "metadata": {},
   "outputs": [],
   "source": [
    "#digits = [{1},{2},{3},{4},{5},{6},{7},{8},{9}]"
   ]
  },
  {
   "cell_type": "code",
   "execution_count": 49,
   "metadata": {},
   "outputs": [
    {
     "name": "stdout",
     "output_type": "stream",
     "text": [
      "found  {1, 2} at row (7, 4) (8, 4)\n",
      "found  {1, 3} at row (7, 4) (8, 4)\n",
      "found  {1, 5} at row (7, 4) (8, 4)\n",
      "found  {1, 6} at row (7, 4) (8, 4)\n",
      "found  {1, 7} at row (7, 4) (8, 4)\n",
      "found  {8, 1} at row (7, 4) (8, 4)\n",
      "found  {1, 9} at row (7, 4) (8, 4)\n",
      "found  {2, 5} at row (7, 4) (8, 4)\n",
      "found  {2, 6} at row (7, 4) (8, 4)\n",
      "found  {3, 5} at row (7, 4) (8, 4)\n",
      "found  {3, 6} at row (7, 4) (8, 4)\n",
      "found  {5, 6} at row (7, 4) (8, 4)\n",
      "found  {5, 7} at row (7, 4) (8, 4)\n",
      "found  {8, 5} at row (7, 4) (8, 4)\n",
      "found  {9, 5} at row (7, 4) (8, 4)\n",
      "found  {6, 7} at row (7, 4) (8, 4)\n",
      "found  {8, 6} at row (7, 4) (8, 4)\n",
      "found  {9, 6} at row (7, 4) (8, 4)\n"
     ]
    }
   ],
   "source": [
    "location = []\n",
    "for s_found, sub_set in enumerate(sub_sets):\n",
    "    count = 0\n",
    "    tmp = []\n",
    "    for r_found, row_content in enumerate(row):\n",
    "        if row_content is None:\n",
    "            continue\n",
    "        elif sub_set.issubset(row_content):\n",
    "\n",
    "            count += 1\n",
    "            tmp.append((r_found, 4))\n",
    "            set_found = sub_set\n",
    "    if count == 2:       \n",
    "        location.append((set_found, tmp[0], tmp[1]))\n",
    "        print(\"found \", sub_set, \"at row\", tmp[0], tmp[1])\n",
    "        tmp = []"
   ]
  },
  {
   "cell_type": "code",
   "execution_count": 52,
   "metadata": {},
   "outputs": [
    {
     "data": {
      "text/plain": [
       "[({1, 2}, (7, 4), (8, 4)),\n",
       " ({1, 3}, (7, 4), (8, 4)),\n",
       " ({1, 5}, (7, 4), (8, 4)),\n",
       " ({1, 6}, (7, 4), (8, 4)),\n",
       " ({1, 7}, (7, 4), (8, 4)),\n",
       " ({1, 8}, (7, 4), (8, 4)),\n",
       " ({1, 9}, (7, 4), (8, 4)),\n",
       " ({2, 5}, (7, 4), (8, 4)),\n",
       " ({2, 6}, (7, 4), (8, 4)),\n",
       " ({3, 5}, (7, 4), (8, 4)),\n",
       " ({3, 6}, (7, 4), (8, 4)),\n",
       " ({5, 6}, (7, 4), (8, 4)),\n",
       " ({5, 7}, (7, 4), (8, 4)),\n",
       " ({5, 8}, (7, 4), (8, 4)),\n",
       " ({5, 9}, (7, 4), (8, 4)),\n",
       " ({6, 7}, (7, 4), (8, 4)),\n",
       " ({6, 8}, (7, 4), (8, 4)),\n",
       " ({6, 9}, (7, 4), (8, 4))]"
      ]
     },
     "execution_count": 52,
     "metadata": {},
     "output_type": "execute_result"
    }
   ],
   "source": [
    "location"
   ]
  },
  {
   "cell_type": "code",
   "execution_count": 41,
   "metadata": {},
   "outputs": [],
   "source": [
    "location2 = []\n",
    "for (digits, loc1, loc2) in location:\n",
    "    found = 0\n",
    "    for qty, digit_number in enumerate(list(digits)):   \n",
    "        tmp2 = []\n",
    "        count2 = 0\n",
    "        single_digit = {digit_number}\n",
    "        for r_found2, row_content2 in enumerate(row):\n",
    "            if row_content2 is None:\n",
    "                continue\n",
    "            elif single_digit.issubset(row_content2):\n",
    "                if (r_found2, 4) == loc1 or (r_found2, 4) == loc2:\n",
    "                    count2 += 1\n",
    "                else:\n",
    "                    break\n",
    "        if count==2:\n",
    "            print(digits, loc1, loc2)\n",
    "            \n",
    "               \n",
    "#if (r_found2, 4) == loc1 or (r_found2, 4) == loc2:\n",
    "#count2 += 1\n",
    "#tmp2.append((r_found2, 4))\n",
    "#if len(tmp2) == 2:\n",
    "#continue\n",
    "#if qty == 1:\n",
    "#location2.append((digits, loc1, loc2))"
   ]
  },
  {
   "cell_type": "code",
   "execution_count": 42,
   "metadata": {},
   "outputs": [
    {
     "data": {
      "text/plain": [
       "[]"
      ]
     },
     "execution_count": 42,
     "metadata": {},
     "output_type": "execute_result"
    }
   ],
   "source": [
    "location2"
   ]
  },
  {
   "cell_type": "code",
   "execution_count": null,
   "metadata": {},
   "outputs": [],
   "source": []
  }
 ],
 "metadata": {
  "kernelspec": {
   "display_name": "Python 3",
   "language": "python",
   "name": "python3"
  },
  "language_info": {
   "codemirror_mode": {
    "name": "ipython",
    "version": 3
   },
   "file_extension": ".py",
   "mimetype": "text/x-python",
   "name": "python",
   "nbconvert_exporter": "python",
   "pygments_lexer": "ipython3",
   "version": "3.8.5"
  }
 },
 "nbformat": 4,
 "nbformat_minor": 4
}
